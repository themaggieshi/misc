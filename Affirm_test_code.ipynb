{
 "cells": [
  {
   "cell_type": "markdown",
   "metadata": {},
   "source": [
    "## Loading Data"
   ]
  },
  {
   "cell_type": "code",
   "execution_count": 2,
   "metadata": {
    "collapsed": true
   },
   "outputs": [],
   "source": [
    "import pandas as pd\n",
    "import numpy as np\n",
    "import matplotlib.pyplot as plt\n",
    "import seaborn as sns\n",
    "%matplotlib inline "
   ]
  },
  {
   "cell_type": "code",
   "execution_count": 3,
   "metadata": {
    "collapsed": false
   },
   "outputs": [],
   "source": [
    "# load data into data frames\n",
    "funnel = pd.read_csv(\"funnel.csv\")\n",
    "loans = pd.read_csv(\"loans.csv\")\n",
    "merchants = pd.read_csv(\"merchants.csv\")"
   ]
  },
  {
   "cell_type": "code",
   "execution_count": 4,
   "metadata": {
    "collapsed": false,
    "scrolled": true
   },
   "outputs": [],
   "source": [
    "# data cleaning \n",
    "\n",
    "# convert series to the correct data types\n",
    "funnel.action_date = pd.to_datetime(funnel.action_date)\n",
    "loans.checkout_date = pd.to_datetime(loans.checkout_date)\n",
    "loans.users_first_capture = pd.to_datetime(loans.users_first_capture.replace('0',np.NaN))\n",
    "\n",
    "# assign missing value where applicable\n",
    "funnel.user_id.replace('0',np.NaN,inplace=True)\n",
    "\n",
    "# There is no unexpected null value -- this is good\n",
    "# print funnel.isnull().sum()\n",
    "# print loans.isnull().sum()\n",
    "# print merchants.isnull().sum()"
   ]
  },
  {
   "cell_type": "code",
   "execution_count": 5,
   "metadata": {
    "collapsed": false
   },
   "outputs": [
    {
     "data": {
      "text/html": [
       "<div>\n",
       "<table border=\"1\" class=\"dataframe\">\n",
       "  <thead>\n",
       "    <tr style=\"text-align: right;\">\n",
       "      <th></th>\n",
       "      <th>merchant_id</th>\n",
       "      <th>user_id</th>\n",
       "      <th>checkout_id</th>\n",
       "      <th>action</th>\n",
       "      <th>action_date</th>\n",
       "    </tr>\n",
       "  </thead>\n",
       "  <tbody>\n",
       "    <tr>\n",
       "      <th>0</th>\n",
       "      <td>D59QS30LK6F2IYOA</td>\n",
       "      <td>2291-6569-ZLWO</td>\n",
       "      <td>MP7KTW20X4LVWDQB</td>\n",
       "      <td>Checkout Loaded</td>\n",
       "      <td>2016-03-31</td>\n",
       "    </tr>\n",
       "    <tr>\n",
       "      <th>1</th>\n",
       "      <td>3XGCFF8YUFM65WSM</td>\n",
       "      <td>4927-7293-MJWN</td>\n",
       "      <td>UTYSI56OMVL9JW0C</td>\n",
       "      <td>Checkout Loaded</td>\n",
       "      <td>2016-01-29</td>\n",
       "    </tr>\n",
       "    <tr>\n",
       "      <th>2</th>\n",
       "      <td>H7GADDVO9CIZHMCL</td>\n",
       "      <td>NaN</td>\n",
       "      <td>2QV1BSCTSMBL6M0M</td>\n",
       "      <td>Checkout Loaded</td>\n",
       "      <td>2016-03-05</td>\n",
       "    </tr>\n",
       "    <tr>\n",
       "      <th>3</th>\n",
       "      <td>MNLK8D11U6PV4THN</td>\n",
       "      <td>NaN</td>\n",
       "      <td>ZM2PFHD1UUQBZHAC</td>\n",
       "      <td>Checkout Loaded</td>\n",
       "      <td>2016-03-27</td>\n",
       "    </tr>\n",
       "    <tr>\n",
       "      <th>4</th>\n",
       "      <td>H7GADDVO9CIZHMCL</td>\n",
       "      <td>NaN</td>\n",
       "      <td>CLPU7LY5JMOZQ7LU</td>\n",
       "      <td>Checkout Loaded</td>\n",
       "      <td>2016-03-09</td>\n",
       "    </tr>\n",
       "  </tbody>\n",
       "</table>\n",
       "</div>"
      ],
      "text/plain": [
       "        merchant_id         user_id       checkout_id           action  \\\n",
       "0  D59QS30LK6F2IYOA  2291-6569-ZLWO  MP7KTW20X4LVWDQB  Checkout Loaded   \n",
       "1  3XGCFF8YUFM65WSM  4927-7293-MJWN  UTYSI56OMVL9JW0C  Checkout Loaded   \n",
       "2  H7GADDVO9CIZHMCL             NaN  2QV1BSCTSMBL6M0M  Checkout Loaded   \n",
       "3  MNLK8D11U6PV4THN             NaN  ZM2PFHD1UUQBZHAC  Checkout Loaded   \n",
       "4  H7GADDVO9CIZHMCL             NaN  CLPU7LY5JMOZQ7LU  Checkout Loaded   \n",
       "\n",
       "  action_date  \n",
       "0  2016-03-31  \n",
       "1  2016-01-29  \n",
       "2  2016-03-05  \n",
       "3  2016-03-27  \n",
       "4  2016-03-09  "
      ]
     },
     "execution_count": 5,
     "metadata": {},
     "output_type": "execute_result"
    }
   ],
   "source": [
    "funnel.head()"
   ]
  },
  {
   "cell_type": "code",
   "execution_count": 6,
   "metadata": {
    "collapsed": false
   },
   "outputs": [
    {
     "data": {
      "text/html": [
       "<div>\n",
       "<table border=\"1\" class=\"dataframe\">\n",
       "  <thead>\n",
       "    <tr style=\"text-align: right;\">\n",
       "      <th></th>\n",
       "      <th>merchant_id</th>\n",
       "      <th>user_id</th>\n",
       "      <th>checkout_id</th>\n",
       "      <th>checkout_date</th>\n",
       "      <th>loan_amount</th>\n",
       "      <th>down_payment_amount</th>\n",
       "      <th>users_first_capture</th>\n",
       "      <th>user_dob_year</th>\n",
       "      <th>loan_length_months</th>\n",
       "      <th>mdr</th>\n",
       "      <th>apr</th>\n",
       "      <th>fico_score</th>\n",
       "      <th>loan_return_percentage</th>\n",
       "    </tr>\n",
       "  </thead>\n",
       "  <tbody>\n",
       "    <tr>\n",
       "      <th>0</th>\n",
       "      <td>ZXTF6RNQXU3VCMHV</td>\n",
       "      <td>6387-9021-JSOJ</td>\n",
       "      <td>3AOXIJUSJKQOE0UB</td>\n",
       "      <td>2016-02-06</td>\n",
       "      <td>1060.0</td>\n",
       "      <td>0.0</td>\n",
       "      <td>2015-10-13</td>\n",
       "      <td>1972</td>\n",
       "      <td>12</td>\n",
       "      <td>0.025</td>\n",
       "      <td>0.25</td>\n",
       "      <td>685</td>\n",
       "      <td>0.0055</td>\n",
       "    </tr>\n",
       "    <tr>\n",
       "      <th>1</th>\n",
       "      <td>YKHCNPR33GOHG3M6</td>\n",
       "      <td>3200-9015-GCZG</td>\n",
       "      <td>YWMTY1ZYAXB4G0LV</td>\n",
       "      <td>2016-02-01</td>\n",
       "      <td>2300.0</td>\n",
       "      <td>0.0</td>\n",
       "      <td>NaT</td>\n",
       "      <td>1981</td>\n",
       "      <td>12</td>\n",
       "      <td>0.019</td>\n",
       "      <td>0.30</td>\n",
       "      <td>628</td>\n",
       "      <td>0.0353</td>\n",
       "    </tr>\n",
       "    <tr>\n",
       "      <th>2</th>\n",
       "      <td>MNLK8D11U6PV4THN</td>\n",
       "      <td>2656-3540-OPOR</td>\n",
       "      <td>6ANRFMR2W3YTVBP6</td>\n",
       "      <td>2016-03-31</td>\n",
       "      <td>850.0</td>\n",
       "      <td>0.0</td>\n",
       "      <td>NaT</td>\n",
       "      <td>1983</td>\n",
       "      <td>6</td>\n",
       "      <td>0.059</td>\n",
       "      <td>0.00</td>\n",
       "      <td>808</td>\n",
       "      <td>0.0584</td>\n",
       "    </tr>\n",
       "    <tr>\n",
       "      <th>3</th>\n",
       "      <td>MNLK8D11U6PV4THN</td>\n",
       "      <td>0175-9602-ERQN</td>\n",
       "      <td>P5C004D6YERT9S8G</td>\n",
       "      <td>2016-03-28</td>\n",
       "      <td>950.0</td>\n",
       "      <td>0.0</td>\n",
       "      <td>NaT</td>\n",
       "      <td>1981</td>\n",
       "      <td>6</td>\n",
       "      <td>0.059</td>\n",
       "      <td>0.00</td>\n",
       "      <td>612</td>\n",
       "      <td>0.0759</td>\n",
       "    </tr>\n",
       "    <tr>\n",
       "      <th>4</th>\n",
       "      <td>MNLK8D11U6PV4THN</td>\n",
       "      <td>6053-1602-FBDR</td>\n",
       "      <td>XEIT9H4G4BNF8MNB</td>\n",
       "      <td>2016-01-05</td>\n",
       "      <td>859.0</td>\n",
       "      <td>0.0</td>\n",
       "      <td>NaT</td>\n",
       "      <td>1951</td>\n",
       "      <td>6</td>\n",
       "      <td>0.059</td>\n",
       "      <td>0.00</td>\n",
       "      <td>783</td>\n",
       "      <td>0.1019</td>\n",
       "    </tr>\n",
       "  </tbody>\n",
       "</table>\n",
       "</div>"
      ],
      "text/plain": [
       "        merchant_id         user_id       checkout_id checkout_date  \\\n",
       "0  ZXTF6RNQXU3VCMHV  6387-9021-JSOJ  3AOXIJUSJKQOE0UB    2016-02-06   \n",
       "1  YKHCNPR33GOHG3M6  3200-9015-GCZG  YWMTY1ZYAXB4G0LV    2016-02-01   \n",
       "2  MNLK8D11U6PV4THN  2656-3540-OPOR  6ANRFMR2W3YTVBP6    2016-03-31   \n",
       "3  MNLK8D11U6PV4THN  0175-9602-ERQN  P5C004D6YERT9S8G    2016-03-28   \n",
       "4  MNLK8D11U6PV4THN  6053-1602-FBDR  XEIT9H4G4BNF8MNB    2016-01-05   \n",
       "\n",
       "   loan_amount  down_payment_amount users_first_capture  user_dob_year  \\\n",
       "0       1060.0                  0.0          2015-10-13           1972   \n",
       "1       2300.0                  0.0                 NaT           1981   \n",
       "2        850.0                  0.0                 NaT           1983   \n",
       "3        950.0                  0.0                 NaT           1981   \n",
       "4        859.0                  0.0                 NaT           1951   \n",
       "\n",
       "   loan_length_months    mdr   apr  fico_score  loan_return_percentage  \n",
       "0                  12  0.025  0.25         685                  0.0055  \n",
       "1                  12  0.019  0.30         628                  0.0353  \n",
       "2                   6  0.059  0.00         808                  0.0584  \n",
       "3                   6  0.059  0.00         612                  0.0759  \n",
       "4                   6  0.059  0.00         783                  0.1019  "
      ]
     },
     "execution_count": 6,
     "metadata": {},
     "output_type": "execute_result"
    }
   ],
   "source": [
    "loans.head()"
   ]
  },
  {
   "cell_type": "code",
   "execution_count": 7,
   "metadata": {
    "collapsed": false
   },
   "outputs": [
    {
     "data": {
      "text/html": [
       "<div>\n",
       "<table border=\"1\" class=\"dataframe\">\n",
       "  <thead>\n",
       "    <tr style=\"text-align: right;\">\n",
       "      <th></th>\n",
       "      <th>merchant_id</th>\n",
       "      <th>merchant_name</th>\n",
       "      <th>category</th>\n",
       "    </tr>\n",
       "  </thead>\n",
       "  <tbody>\n",
       "    <tr>\n",
       "      <th>0</th>\n",
       "      <td>D59QS30LK6F2IYOA</td>\n",
       "      <td>Mozzarella Factory</td>\n",
       "      <td>Furniture</td>\n",
       "    </tr>\n",
       "    <tr>\n",
       "      <th>1</th>\n",
       "      <td>2ZOAIY64Q3G5QU6Q</td>\n",
       "      <td>American Inc.</td>\n",
       "      <td>Jewelry</td>\n",
       "    </tr>\n",
       "    <tr>\n",
       "      <th>2</th>\n",
       "      <td>XG9744A6PCIJXTVB</td>\n",
       "      <td>Monterey Jack Sparrow</td>\n",
       "      <td>Furniture</td>\n",
       "    </tr>\n",
       "    <tr>\n",
       "      <th>3</th>\n",
       "      <td>P2T82BO89LRD4WYH</td>\n",
       "      <td>Brie Corp.</td>\n",
       "      <td>Music</td>\n",
       "    </tr>\n",
       "    <tr>\n",
       "      <th>4</th>\n",
       "      <td>I19WHSQA1OEG7OLK</td>\n",
       "      <td>Halloumi Boards</td>\n",
       "      <td>Jewelry</td>\n",
       "    </tr>\n",
       "  </tbody>\n",
       "</table>\n",
       "</div>"
      ],
      "text/plain": [
       "        merchant_id          merchant_name   category\n",
       "0  D59QS30LK6F2IYOA     Mozzarella Factory  Furniture\n",
       "1  2ZOAIY64Q3G5QU6Q          American Inc.    Jewelry\n",
       "2  XG9744A6PCIJXTVB  Monterey Jack Sparrow  Furniture\n",
       "3  P2T82BO89LRD4WYH             Brie Corp.      Music\n",
       "4  I19WHSQA1OEG7OLK        Halloumi Boards    Jewelry"
      ]
     },
     "execution_count": 7,
     "metadata": {},
     "output_type": "execute_result"
    }
   ],
   "source": [
    "merchants.head()"
   ]
  },
  {
   "cell_type": "code",
   "execution_count": null,
   "metadata": {
    "collapsed": true
   },
   "outputs": [],
   "source": []
  },
  {
   "cell_type": "markdown",
   "metadata": {},
   "source": [
    "## Q1: Data exploration and abnormality check"
   ]
  },
  {
   "cell_type": "markdown",
   "metadata": {},
   "source": [
    "Check for duplicates"
   ]
  },
  {
   "cell_type": "code",
   "execution_count": 8,
   "metadata": {
    "collapsed": false
   },
   "outputs": [
    {
     "name": "stdout",
     "output_type": "stream",
     "text": [
      "duplicated merchant          merchant_id  merchant_name category\n",
      "5  5JDXXV6949VE1GLT  Roquefort NYC    Music\n",
      "7  H7GADDVO9CIZHMCL  Roquefort NYC    Music\n"
     ]
    }
   ],
   "source": [
    "# funnel has one record per checkout_id & action -- this is good\n",
    "# print funnel[funnel.duplicated(subset = ['checkout_id','action'],keep=False)].sort_values(by = 'checkout_id')\n",
    "\n",
    "# loans has unique record per checkout_id -- this is good\n",
    "# print loans[loans.duplicated(subset = ['checkout_id'],keep=False)].sort_values(by = 'checkout_id')\n",
    "\n",
    "# merchant_id is unique -- this is good\n",
    "# print merchants[merchants.duplicated(subset = ['merchant_id'],keep=False)].sort_values(by = 'merchant_id')\n",
    "\n",
    "# merchant_name 'Roquefort NYC' is duplicated and has two merchant_id's, could be data issue\n",
    "# only one of the merchant_id's has loan data, but both has funnel data\n",
    "# for this analysis, the duplicated merchant is renamed as 'Roquefort NYC 2'\n",
    "print 'duplicated merchant ', merchants[merchants.duplicated(subset = ['merchant_name'],keep=False)].sort_values(by = 'merchant_name')\n",
    "#print loans[loans.merchant_id.isin(['5JDXXV6949VE1GLT','H7GADDVO9CIZHMCL'])].merchant_id.value_counts()\n",
    "#print funnel[funnel.merchant_id.isin(['5JDXXV6949VE1GLT','H7GADDVO9CIZHMCL'])].merchant_id.value_counts()\n",
    "#print funnel[funnel.merchant_id.isin(['5JDXXV6949VE1GLT'])]\n",
    "merchants.set_index('merchant_id',inplace=True)\n",
    "merchants.at['5JDXXV6949VE1GLT','merchant_name'] = 'Roquefort NYC 2'\n",
    "merchants.reset_index(inplace=True)"
   ]
  },
  {
   "cell_type": "markdown",
   "metadata": {},
   "source": [
    "Potential data issue in loans table"
   ]
  },
  {
   "cell_type": "code",
   "execution_count": 9,
   "metadata": {
    "collapsed": false
   },
   "outputs": [
    {
     "data": {
      "text/html": [
       "<div>\n",
       "<table border=\"1\" class=\"dataframe\">\n",
       "  <thead>\n",
       "    <tr style=\"text-align: right;\">\n",
       "      <th></th>\n",
       "      <th>loan_amount</th>\n",
       "      <th>down_payment_amount</th>\n",
       "      <th>user_dob_year</th>\n",
       "      <th>loan_length_months</th>\n",
       "      <th>mdr</th>\n",
       "      <th>apr</th>\n",
       "      <th>fico_score</th>\n",
       "      <th>loan_return_percentage</th>\n",
       "    </tr>\n",
       "  </thead>\n",
       "  <tbody>\n",
       "    <tr>\n",
       "      <th>count</th>\n",
       "      <td>43687.000000</td>\n",
       "      <td>43687.000000</td>\n",
       "      <td>43687.000000</td>\n",
       "      <td>43687.000000</td>\n",
       "      <td>43687.000000</td>\n",
       "      <td>43687.000000</td>\n",
       "      <td>43687.000000</td>\n",
       "      <td>43687.000000</td>\n",
       "    </tr>\n",
       "    <tr>\n",
       "      <th>mean</th>\n",
       "      <td>760.813632</td>\n",
       "      <td>25.073145</td>\n",
       "      <td>1975.162543</td>\n",
       "      <td>8.758029</td>\n",
       "      <td>0.032777</td>\n",
       "      <td>0.195146</td>\n",
       "      <td>649.448326</td>\n",
       "      <td>0.060408</td>\n",
       "    </tr>\n",
       "    <tr>\n",
       "      <th>std</th>\n",
       "      <td>924.629640</td>\n",
       "      <td>184.794586</td>\n",
       "      <td>11.614734</td>\n",
       "      <td>3.662579</td>\n",
       "      <td>0.023479</td>\n",
       "      <td>0.123484</td>\n",
       "      <td>95.882933</td>\n",
       "      <td>0.177156</td>\n",
       "    </tr>\n",
       "    <tr>\n",
       "      <th>min</th>\n",
       "      <td>0.230000</td>\n",
       "      <td>0.000000</td>\n",
       "      <td>1899.000000</td>\n",
       "      <td>1.000000</td>\n",
       "      <td>0.000000</td>\n",
       "      <td>0.000000</td>\n",
       "      <td>0.000000</td>\n",
       "      <td>-0.999800</td>\n",
       "    </tr>\n",
       "    <tr>\n",
       "      <th>25%</th>\n",
       "      <td>210.000000</td>\n",
       "      <td>0.000000</td>\n",
       "      <td>1968.000000</td>\n",
       "      <td>6.000000</td>\n",
       "      <td>0.019000</td>\n",
       "      <td>0.000000</td>\n",
       "      <td>614.000000</td>\n",
       "      <td>0.039800</td>\n",
       "    </tr>\n",
       "    <tr>\n",
       "      <th>50%</th>\n",
       "      <td>513.000000</td>\n",
       "      <td>0.000000</td>\n",
       "      <td>1976.000000</td>\n",
       "      <td>12.000000</td>\n",
       "      <td>0.019000</td>\n",
       "      <td>0.250000</td>\n",
       "      <td>648.000000</td>\n",
       "      <td>0.093600</td>\n",
       "    </tr>\n",
       "    <tr>\n",
       "      <th>75%</th>\n",
       "      <td>950.000000</td>\n",
       "      <td>0.000000</td>\n",
       "      <td>1984.000000</td>\n",
       "      <td>12.000000</td>\n",
       "      <td>0.059000</td>\n",
       "      <td>0.300000</td>\n",
       "      <td>691.000000</td>\n",
       "      <td>0.147200</td>\n",
       "    </tr>\n",
       "    <tr>\n",
       "      <th>max</th>\n",
       "      <td>34020.000000</td>\n",
       "      <td>16520.000000</td>\n",
       "      <td>1997.000000</td>\n",
       "      <td>18.000000</td>\n",
       "      <td>0.200000</td>\n",
       "      <td>0.300000</td>\n",
       "      <td>850.000000</td>\n",
       "      <td>0.200000</td>\n",
       "    </tr>\n",
       "  </tbody>\n",
       "</table>\n",
       "</div>"
      ],
      "text/plain": [
       "        loan_amount  down_payment_amount  user_dob_year  loan_length_months  \\\n",
       "count  43687.000000         43687.000000   43687.000000        43687.000000   \n",
       "mean     760.813632            25.073145    1975.162543            8.758029   \n",
       "std      924.629640           184.794586      11.614734            3.662579   \n",
       "min        0.230000             0.000000    1899.000000            1.000000   \n",
       "25%      210.000000             0.000000    1968.000000            6.000000   \n",
       "50%      513.000000             0.000000    1976.000000           12.000000   \n",
       "75%      950.000000             0.000000    1984.000000           12.000000   \n",
       "max    34020.000000         16520.000000    1997.000000           18.000000   \n",
       "\n",
       "                mdr           apr    fico_score  loan_return_percentage  \n",
       "count  43687.000000  43687.000000  43687.000000            43687.000000  \n",
       "mean       0.032777      0.195146    649.448326                0.060408  \n",
       "std        0.023479      0.123484     95.882933                0.177156  \n",
       "min        0.000000      0.000000      0.000000               -0.999800  \n",
       "25%        0.019000      0.000000    614.000000                0.039800  \n",
       "50%        0.019000      0.250000    648.000000                0.093600  \n",
       "75%        0.059000      0.300000    691.000000                0.147200  \n",
       "max        0.200000      0.300000    850.000000                0.200000  "
      ]
     },
     "execution_count": 9,
     "metadata": {},
     "output_type": "execute_result"
    }
   ],
   "source": [
    "# potential data issue in loans table: DoB invalid year, fico score = 0, loan amount too small\n",
    "loans.describe()"
   ]
  },
  {
   "cell_type": "markdown",
   "metadata": {},
   "source": [
    "Look into the above data issues in the loans table"
   ]
  },
  {
   "cell_type": "code",
   "execution_count": 10,
   "metadata": {
    "collapsed": false
   },
   "outputs": [],
   "source": [
    "# there are users over 100 years old. May need to double-check to make sure they are legit \n",
    "# loans[loans.user_dob_year < 1918][['user_id','user_dob_year']]\n",
    "\n",
    "# no user < 18 years old -- this is good\n",
    "# loans[loans.user_dob_year > 2000][['user_id','user_dob_year']]\n",
    "\n",
    "# Some loans have invalid fico score values. \n",
    "# Need to investigate: Is this data issue or some other risk score was used for these loans? \n",
    "# sum(loans.fico_score < 300)\n",
    "\n",
    "# there are many loans with very small loan amounts (as low as $0.23). \n",
    "# Need to double-check what is the minimum loan amount allowed.\n",
    "# loans[loans.loan_amount < 100].loan_amount.hist(bins=20)\n",
    "# loans[loans.loan_amount < 50].loan_amount.value_counts().sort_index()\n",
    "\n",
    "# down payment should be less than loan amount\n",
    "# loans[loans.down_payment_amount >= loans.loan_amount][['checkout_id','down_payment_amount','loan_amount']]\n",
    "\n",
    "# loan length values are all expected -- this is good\n",
    "# loans.loan_length_months.value_counts()\n"
   ]
  },
  {
   "cell_type": "markdown",
   "metadata": {},
   "source": [
    "Potential data issue in the funnel table"
   ]
  },
  {
   "cell_type": "code",
   "execution_count": 11,
   "metadata": {
    "collapsed": false
   },
   "outputs": [
    {
     "name": "stdout",
     "output_type": "stream",
     "text": [
      "\"Checkout Completed\" without \"Loan Terms Approved\":  5\n",
      "\"Loan Terms Approved\" without \"Loan Terms Run\":  0\n",
      "\"Loan Terms Run\" without \"Checkout Loaded\":  814\n"
     ]
    }
   ],
   "source": [
    "# missing action steps \n",
    "print '\"Checkout Completed\" without \"Loan Terms Approved\": ', sum(~funnel[funnel.action == \"Checkout Completed\"].checkout_id.isin(funnel[funnel.action == \"Loan Terms Approved\"].checkout_id.values))\n",
    "print '\"Loan Terms Approved\" without \"Loan Terms Run\": ', sum(~funnel[funnel.action == \"Loan Terms Approved\"].checkout_id.isin(funnel[funnel.action == \"Loan Terms Run\"].checkout_id.values))\n",
    "print '\"Loan Terms Run\" without \"Checkout Loaded\": ', sum(~funnel[funnel.action == \"Loan Terms Run\"].checkout_id.isin(funnel[funnel.action == \"Checkout Loaded\"].checkout_id.values))\n",
    "\n",
    "# print out the 5 checkout_id's that have\"Checkout Completed\" but no \"Loan Terms Approved\"\n",
    "# funnel[funnel.action == \"Checkout Completed\"][~funnel[funnel.action == \"Checkout Completed\"].checkout_id.isin(funnel[funnel.action == \"Loan Terms Approved\"].checkout_id.values)]\n",
    "# funnel[funnel.checkout_id.isin(['5XN9JR0P715U3ZCF','98JDZ4GZLLX1SRLN','HCYQNCB90S76YJIP','TTPWITH6OUYPGRX7','M8E2A4YS6NTEFMWF'])].sort_values(by=['checkout_id','action_date'])"
   ]
  },
  {
   "cell_type": "markdown",
   "metadata": {},
   "source": [
    "Fill in missing action steps in the funnel table"
   ]
  },
  {
   "cell_type": "code",
   "execution_count": 12,
   "metadata": {
    "collapsed": false
   },
   "outputs": [],
   "source": [
    "# fill missing step3 using step4\n",
    "missing_step3 = funnel[funnel.action == \"Checkout Completed\"][~funnel[funnel.action == \"Checkout Completed\"].checkout_id.isin(\n",
    "    funnel[funnel.action == \"Loan Terms Approved\"].checkout_id.values)]\n",
    "missing_step3[\"action\"] = \"Loan Terms Approved\"\n",
    "missing_step3[\"imputed\"] = 1\n",
    "filled_step3 = pd.concat([funnel,missing_step3])\n",
    "\n",
    "# fill missing step2 using step3\n",
    "missing_step2 = filled_step3[filled_step3.action == \"Loan Terms Approved\"][~filled_step3[filled_step3.action == \"Loan Terms Approved\"].checkout_id.isin(\n",
    "    filled_step3[filled_step3.action == \"Loan Terms Run\"].checkout_id.values)]\n",
    "missing_step2[\"action\"] = \"Loan Terms Run\"\n",
    "missing_step2[\"imputed\"] = 1\n",
    "filled_step2 = pd.concat([filled_step3,missing_step2])\n",
    "\n",
    "# fill missing step1 using step2\n",
    "missing_step1 = filled_step2[filled_step2.action == \"Loan Terms Run\"][~filled_step2[filled_step2.action == \"Loan Terms Run\"].checkout_id.isin(\n",
    "    filled_step2[filled_step2.action == \"Checkout Loaded\"].checkout_id.values)]\n",
    "missing_step1[\"action\"] = \"Checkout Loaded\"\n",
    "missing_step1[\"imputed\"] = 1\n",
    "filled_step1 = pd.concat([filled_step2,missing_step1])"
   ]
  },
  {
   "cell_type": "code",
   "execution_count": 13,
   "metadata": {
    "collapsed": false
   },
   "outputs": [
    {
     "name": "stdout",
     "output_type": "stream",
     "text": [
      "\"Checkout Completed\" without \"Loan Terms Approved\":  0\n",
      "\"Loan Terms Approved\" without \"Loan Terms Run\":  0\n",
      "\"Loan Terms Run\" without \"Checkout Loaded\":  0\n"
     ]
    }
   ],
   "source": [
    "# check if anything still missing after filling -- no missing, this is good\n",
    "print '\"Checkout Completed\" without \"Loan Terms Approved\": ', sum(~filled_step1[filled_step1.action == \"Checkout Completed\"].checkout_id.isin(filled_step1[filled_step1.action == \"Loan Terms Approved\"].checkout_id.values))\n",
    "print '\"Loan Terms Approved\" without \"Loan Terms Run\": ', sum(~filled_step1[filled_step1.action == \"Loan Terms Approved\"].checkout_id.isin(filled_step1[filled_step1.action == \"Loan Terms Run\"].checkout_id.values))\n",
    "print '\"Loan Terms Run\" without \"Checkout Loaded\": ', sum(~filled_step1[filled_step1.action == \"Loan Terms Run\"].checkout_id.isin(filled_step1[filled_step1.action == \"Checkout Loaded\"].checkout_id.values))"
   ]
  },
  {
   "cell_type": "code",
   "execution_count": 14,
   "metadata": {
    "collapsed": true
   },
   "outputs": [],
   "source": [
    "# replace the funnel table with newly filled funnel table\n",
    "funnel = filled_step1"
   ]
  },
  {
   "cell_type": "markdown",
   "metadata": {},
   "source": [
    "Check discrepancies among tables"
   ]
  },
  {
   "cell_type": "code",
   "execution_count": 15,
   "metadata": {
    "collapsed": false
   },
   "outputs": [
    {
     "name": "stdout",
     "output_type": "stream",
     "text": [
      "Number of loans not found in funnel \"Checkout Completed\":  3016\n",
      "Number of funnel \"Checkout Completed\" records not found in loans:  0\n"
     ]
    }
   ],
   "source": [
    "# there are >3000 loans not found in funnel table -- data issue should be investigated\n",
    "print 'Number of loans not found in funnel \"Checkout Completed\": ', sum(~loans.checkout_id.isin(funnel[funnel.action == \"Checkout Completed\"].checkout_id.values))\n",
    "\n",
    "# all \"checkout completed\" are accounted for in the loans table -- this is good\n",
    "print 'Number of funnel \"Checkout Completed\" records not found in loans: ', sum(~funnel[funnel.action == \"Checkout Completed\"].checkout_id.isin(loans.checkout_id.values))"
   ]
  },
  {
   "cell_type": "markdown",
   "metadata": {},
   "source": [
    "Merge the tables together to prepare for further analysis"
   ]
  },
  {
   "cell_type": "code",
   "execution_count": 16,
   "metadata": {
    "collapsed": false
   },
   "outputs": [
    {
     "data": {
      "text/html": [
       "<div>\n",
       "<table border=\"1\" class=\"dataframe\">\n",
       "  <thead>\n",
       "    <tr style=\"text-align: right;\">\n",
       "      <th></th>\n",
       "      <th>action</th>\n",
       "      <th>action_date</th>\n",
       "      <th>checkout_id</th>\n",
       "      <th>imputed</th>\n",
       "      <th>merchant_id_x</th>\n",
       "      <th>user_id_x</th>\n",
       "      <th>merchant_name</th>\n",
       "      <th>category</th>\n",
       "      <th>merchant_id_y</th>\n",
       "      <th>user_id_y</th>\n",
       "      <th>checkout_date</th>\n",
       "      <th>loan_amount</th>\n",
       "      <th>down_payment_amount</th>\n",
       "      <th>users_first_capture</th>\n",
       "      <th>user_dob_year</th>\n",
       "      <th>loan_length_months</th>\n",
       "      <th>mdr</th>\n",
       "      <th>apr</th>\n",
       "      <th>fico_score</th>\n",
       "      <th>loan_return_percentage</th>\n",
       "    </tr>\n",
       "  </thead>\n",
       "  <tbody>\n",
       "    <tr>\n",
       "      <th>0</th>\n",
       "      <td>Checkout Loaded</td>\n",
       "      <td>2016-03-31</td>\n",
       "      <td>MP7KTW20X4LVWDQB</td>\n",
       "      <td>NaN</td>\n",
       "      <td>D59QS30LK6F2IYOA</td>\n",
       "      <td>2291-6569-ZLWO</td>\n",
       "      <td>Mozzarella Factory</td>\n",
       "      <td>Furniture</td>\n",
       "      <td>NaN</td>\n",
       "      <td>NaN</td>\n",
       "      <td>NaT</td>\n",
       "      <td>NaN</td>\n",
       "      <td>NaN</td>\n",
       "      <td>NaT</td>\n",
       "      <td>NaN</td>\n",
       "      <td>NaN</td>\n",
       "      <td>NaN</td>\n",
       "      <td>NaN</td>\n",
       "      <td>NaN</td>\n",
       "      <td>NaN</td>\n",
       "    </tr>\n",
       "    <tr>\n",
       "      <th>1</th>\n",
       "      <td>Checkout Loaded</td>\n",
       "      <td>2016-01-29</td>\n",
       "      <td>UTYSI56OMVL9JW0C</td>\n",
       "      <td>NaN</td>\n",
       "      <td>3XGCFF8YUFM65WSM</td>\n",
       "      <td>4927-7293-MJWN</td>\n",
       "      <td>Bagels &amp; Cream</td>\n",
       "      <td>Apparel</td>\n",
       "      <td>3XGCFF8YUFM65WSM</td>\n",
       "      <td>4927-7293-MJWN</td>\n",
       "      <td>2016-01-29</td>\n",
       "      <td>166.7</td>\n",
       "      <td>0.0</td>\n",
       "      <td>2016-01-18</td>\n",
       "      <td>1975.0</td>\n",
       "      <td>12.0</td>\n",
       "      <td>0.019</td>\n",
       "      <td>0.3</td>\n",
       "      <td>653.0</td>\n",
       "      <td>0.0035</td>\n",
       "    </tr>\n",
       "    <tr>\n",
       "      <th>2</th>\n",
       "      <td>Checkout Loaded</td>\n",
       "      <td>2016-03-05</td>\n",
       "      <td>2QV1BSCTSMBL6M0M</td>\n",
       "      <td>NaN</td>\n",
       "      <td>H7GADDVO9CIZHMCL</td>\n",
       "      <td>NaN</td>\n",
       "      <td>Roquefort NYC</td>\n",
       "      <td>Music</td>\n",
       "      <td>NaN</td>\n",
       "      <td>NaN</td>\n",
       "      <td>NaT</td>\n",
       "      <td>NaN</td>\n",
       "      <td>NaN</td>\n",
       "      <td>NaT</td>\n",
       "      <td>NaN</td>\n",
       "      <td>NaN</td>\n",
       "      <td>NaN</td>\n",
       "      <td>NaN</td>\n",
       "      <td>NaN</td>\n",
       "      <td>NaN</td>\n",
       "    </tr>\n",
       "    <tr>\n",
       "      <th>3</th>\n",
       "      <td>Checkout Loaded</td>\n",
       "      <td>2016-03-27</td>\n",
       "      <td>ZM2PFHD1UUQBZHAC</td>\n",
       "      <td>NaN</td>\n",
       "      <td>MNLK8D11U6PV4THN</td>\n",
       "      <td>NaN</td>\n",
       "      <td>Pepperjack Co.</td>\n",
       "      <td>Furniture</td>\n",
       "      <td>NaN</td>\n",
       "      <td>NaN</td>\n",
       "      <td>NaT</td>\n",
       "      <td>NaN</td>\n",
       "      <td>NaN</td>\n",
       "      <td>NaT</td>\n",
       "      <td>NaN</td>\n",
       "      <td>NaN</td>\n",
       "      <td>NaN</td>\n",
       "      <td>NaN</td>\n",
       "      <td>NaN</td>\n",
       "      <td>NaN</td>\n",
       "    </tr>\n",
       "    <tr>\n",
       "      <th>4</th>\n",
       "      <td>Checkout Loaded</td>\n",
       "      <td>2016-03-09</td>\n",
       "      <td>CLPU7LY5JMOZQ7LU</td>\n",
       "      <td>NaN</td>\n",
       "      <td>H7GADDVO9CIZHMCL</td>\n",
       "      <td>NaN</td>\n",
       "      <td>Roquefort NYC</td>\n",
       "      <td>Music</td>\n",
       "      <td>NaN</td>\n",
       "      <td>NaN</td>\n",
       "      <td>NaT</td>\n",
       "      <td>NaN</td>\n",
       "      <td>NaN</td>\n",
       "      <td>NaT</td>\n",
       "      <td>NaN</td>\n",
       "      <td>NaN</td>\n",
       "      <td>NaN</td>\n",
       "      <td>NaN</td>\n",
       "      <td>NaN</td>\n",
       "      <td>NaN</td>\n",
       "    </tr>\n",
       "  </tbody>\n",
       "</table>\n",
       "</div>"
      ],
      "text/plain": [
       "            action action_date       checkout_id  imputed     merchant_id_x  \\\n",
       "0  Checkout Loaded  2016-03-31  MP7KTW20X4LVWDQB      NaN  D59QS30LK6F2IYOA   \n",
       "1  Checkout Loaded  2016-01-29  UTYSI56OMVL9JW0C      NaN  3XGCFF8YUFM65WSM   \n",
       "2  Checkout Loaded  2016-03-05  2QV1BSCTSMBL6M0M      NaN  H7GADDVO9CIZHMCL   \n",
       "3  Checkout Loaded  2016-03-27  ZM2PFHD1UUQBZHAC      NaN  MNLK8D11U6PV4THN   \n",
       "4  Checkout Loaded  2016-03-09  CLPU7LY5JMOZQ7LU      NaN  H7GADDVO9CIZHMCL   \n",
       "\n",
       "        user_id_x       merchant_name   category     merchant_id_y  \\\n",
       "0  2291-6569-ZLWO  Mozzarella Factory  Furniture               NaN   \n",
       "1  4927-7293-MJWN      Bagels & Cream    Apparel  3XGCFF8YUFM65WSM   \n",
       "2             NaN       Roquefort NYC      Music               NaN   \n",
       "3             NaN      Pepperjack Co.  Furniture               NaN   \n",
       "4             NaN       Roquefort NYC      Music               NaN   \n",
       "\n",
       "        user_id_y checkout_date  loan_amount  down_payment_amount  \\\n",
       "0             NaN           NaT          NaN                  NaN   \n",
       "1  4927-7293-MJWN    2016-01-29        166.7                  0.0   \n",
       "2             NaN           NaT          NaN                  NaN   \n",
       "3             NaN           NaT          NaN                  NaN   \n",
       "4             NaN           NaT          NaN                  NaN   \n",
       "\n",
       "  users_first_capture  user_dob_year  loan_length_months    mdr  apr  \\\n",
       "0                 NaT            NaN                 NaN    NaN  NaN   \n",
       "1          2016-01-18         1975.0                12.0  0.019  0.3   \n",
       "2                 NaT            NaN                 NaN    NaN  NaN   \n",
       "3                 NaT            NaN                 NaN    NaN  NaN   \n",
       "4                 NaT            NaN                 NaN    NaN  NaN   \n",
       "\n",
       "   fico_score  loan_return_percentage  \n",
       "0         NaN                     NaN  \n",
       "1       653.0                  0.0035  \n",
       "2         NaN                     NaN  \n",
       "3         NaN                     NaN  \n",
       "4         NaN                     NaN  "
      ]
     },
     "execution_count": 16,
     "metadata": {},
     "output_type": "execute_result"
    }
   ],
   "source": [
    "# Merge the 3 tables together: exclude those loans not found in funnel table\n",
    "loan_in_funnel = loans[loans.checkout_id.isin(funnel[funnel.action == \"Checkout Completed\"].checkout_id.values)]\n",
    "funnel_merchants = funnel.merge(merchants, how = 'left', on = 'merchant_id')\n",
    "funnel_loans = funnel_merchants.merge(loan_in_funnel, how = 'left', on = 'checkout_id')\n",
    "funnel_loans.head()"
   ]
  },
  {
   "cell_type": "code",
   "execution_count": 17,
   "metadata": {
    "collapsed": false
   },
   "outputs": [
    {
     "name": "stdout",
     "output_type": "stream",
     "text": [
      "gap between action_date and checkout_date: \n",
      "0 days    162333\n",
      "1 days       346\n",
      "2 days         4\n",
      "4 days         1\n",
      "dtype: int64\n"
     ]
    }
   ],
   "source": [
    "# check inter-column data relationships\n",
    "\n",
    "# the user_id and merchant_id from funnel and loans table are consistent -- this is good\n",
    "# sum(funnel_loans.merchant_id_y.notnull() & (funnel_loans.merchant_id_x != funnel_loans.merchant_id_y))\n",
    "# sum(funnel_loans.user_id_y.notnull() & (funnel_loans.user_id_x != funnel_loans.user_id_y))\n",
    "\n",
    "# On rare occasions, there's a gap between action_date and checkout_date\n",
    "# i.e. actions for the same checkout can span multiple days. \n",
    "print 'gap between action_date and checkout_date: '\n",
    "print (funnel_loans.checkout_date - funnel_loans.action_date).value_counts()\n"
   ]
  },
  {
   "cell_type": "code",
   "execution_count": null,
   "metadata": {
    "collapsed": true
   },
   "outputs": [],
   "source": []
  },
  {
   "cell_type": "code",
   "execution_count": null,
   "metadata": {
    "collapsed": true
   },
   "outputs": [],
   "source": []
  },
  {
   "cell_type": "markdown",
   "metadata": {},
   "source": [
    "## Q2: Calculate conversion through the funnel by day "
   ]
  },
  {
   "cell_type": "code",
   "execution_count": 18,
   "metadata": {
    "collapsed": false
   },
   "outputs": [
    {
     "data": {
      "text/html": [
       "<div>\n",
       "<table border=\"1\" class=\"dataframe\">\n",
       "  <thead>\n",
       "    <tr style=\"text-align: right;\">\n",
       "      <th></th>\n",
       "      <th>num_loaded</th>\n",
       "      <th>num_applied</th>\n",
       "      <th>num_approved</th>\n",
       "      <th>num_confirmed</th>\n",
       "      <th>application_rate</th>\n",
       "      <th>approval_rate</th>\n",
       "      <th>confirmation_rate</th>\n",
       "    </tr>\n",
       "    <tr>\n",
       "      <th>action_date</th>\n",
       "      <th></th>\n",
       "      <th></th>\n",
       "      <th></th>\n",
       "      <th></th>\n",
       "      <th></th>\n",
       "      <th></th>\n",
       "      <th></th>\n",
       "    </tr>\n",
       "  </thead>\n",
       "  <tbody>\n",
       "    <tr>\n",
       "      <th>2016-01-01</th>\n",
       "      <td>1482</td>\n",
       "      <td>1072</td>\n",
       "      <td>665</td>\n",
       "      <td>397</td>\n",
       "      <td>0.723347</td>\n",
       "      <td>0.620336</td>\n",
       "      <td>0.596992</td>\n",
       "    </tr>\n",
       "    <tr>\n",
       "      <th>2016-01-02</th>\n",
       "      <td>1826</td>\n",
       "      <td>1349</td>\n",
       "      <td>795</td>\n",
       "      <td>485</td>\n",
       "      <td>0.738773</td>\n",
       "      <td>0.589325</td>\n",
       "      <td>0.610063</td>\n",
       "    </tr>\n",
       "    <tr>\n",
       "      <th>2016-01-03</th>\n",
       "      <td>1836</td>\n",
       "      <td>1339</td>\n",
       "      <td>810</td>\n",
       "      <td>488</td>\n",
       "      <td>0.729303</td>\n",
       "      <td>0.604929</td>\n",
       "      <td>0.602469</td>\n",
       "    </tr>\n",
       "    <tr>\n",
       "      <th>2016-01-04</th>\n",
       "      <td>2050</td>\n",
       "      <td>1508</td>\n",
       "      <td>913</td>\n",
       "      <td>554</td>\n",
       "      <td>0.735610</td>\n",
       "      <td>0.605438</td>\n",
       "      <td>0.606791</td>\n",
       "    </tr>\n",
       "    <tr>\n",
       "      <th>2016-01-05</th>\n",
       "      <td>2317</td>\n",
       "      <td>1585</td>\n",
       "      <td>899</td>\n",
       "      <td>577</td>\n",
       "      <td>0.684074</td>\n",
       "      <td>0.567192</td>\n",
       "      <td>0.641824</td>\n",
       "    </tr>\n",
       "  </tbody>\n",
       "</table>\n",
       "</div>"
      ],
      "text/plain": [
       "             num_loaded  num_applied  num_approved  num_confirmed  \\\n",
       "action_date                                                         \n",
       "2016-01-01         1482         1072           665            397   \n",
       "2016-01-02         1826         1349           795            485   \n",
       "2016-01-03         1836         1339           810            488   \n",
       "2016-01-04         2050         1508           913            554   \n",
       "2016-01-05         2317         1585           899            577   \n",
       "\n",
       "             application_rate  approval_rate  confirmation_rate  \n",
       "action_date                                                      \n",
       "2016-01-01           0.723347       0.620336           0.596992  \n",
       "2016-01-02           0.738773       0.589325           0.610063  \n",
       "2016-01-03           0.729303       0.604929           0.602469  \n",
       "2016-01-04           0.735610       0.605438           0.606791  \n",
       "2016-01-05           0.684074       0.567192           0.641824  "
      ]
     },
     "execution_count": 18,
     "metadata": {},
     "output_type": "execute_result"
    }
   ],
   "source": [
    "# create conversion table \n",
    "conversion = funnel_loans.groupby(['action_date','action'], axis=0).size().unstack()\n",
    "conversion.columns = ['num_confirmed', 'num_loaded', 'num_approved', 'num_applied']\n",
    "conversion = conversion[['num_loaded','num_applied','num_approved','num_confirmed']]\n",
    "conversion['application_rate'] = conversion['num_applied'] / conversion['num_loaded']\n",
    "conversion['approval_rate'] = conversion['num_approved'] / conversion['num_applied'] \n",
    "conversion['confirmation_rate'] = conversion['num_confirmed'] / conversion['num_approved'] \n",
    "conversion.head()"
   ]
  },
  {
   "cell_type": "markdown",
   "metadata": {},
   "source": [
    "One caveat of this table: \n",
    "- It seems that this is intended to be a summary of daily funnel performance. This table would make the most sense if, for the same checkout, all 4 actions happen on the same day. However, the data show that sometimes actions can span multiple days. i.e. A confirmed loan might have been loaded days before. This complicates the explanation of daily conversion rates (last 3 columns). \n",
    "- But since the multi-day situation is rare (< 1%), for the purpose of this analysis, date is strictly based on action_date and no special handling has been done to assign all actions to the same date. \n",
    "- Missing steps in funnel table (identified in Question 1) were filled in before calculating conversion."
   ]
  },
  {
   "cell_type": "code",
   "execution_count": null,
   "metadata": {
    "collapsed": true
   },
   "outputs": [],
   "source": []
  },
  {
   "cell_type": "markdown",
   "metadata": {},
   "source": [
    "## Q3: Which merchant industry and/or user demographic to focus business development on?"
   ]
  },
  {
   "cell_type": "markdown",
   "metadata": {},
   "source": [
    "Metrics:\n",
    "    1. Total revenue, where revenue = (mdr + loan_return_percentage) * loan_amount\n",
    "    2. Revenue per loan (ROI) \n",
    "    3. Conversion rates\n",
    "    4. % of return users"
   ]
  },
  {
   "cell_type": "markdown",
   "metadata": {},
   "source": [
    "Compare revenue across merchant industries and user age groups"
   ]
  },
  {
   "cell_type": "code",
   "execution_count": 37,
   "metadata": {
    "collapsed": false
   },
   "outputs": [],
   "source": [
    "# data prep\n",
    "funnel_loans['age'] = 2018 - funnel_loans.user_dob_year + 1\n",
    "funnel_loans['age_grp'] = pd.cut(funnel_loans.age, bins = [0,25,30,35,40,45,50,55,60,65,np.inf])\n",
    "funnel_loans.ix[funnel_loans.action == 'Checkout Completed','revenue'] = (funnel_loans.mdr + funnel_loans.loan_return_percentage) * funnel_loans.loan_amount\n",
    "funnel_loans['fico_grp'] = pd.cut(funnel_loans.fico_score, bins = [0,600,650,700,750,800,np.inf])"
   ]
  },
  {
   "cell_type": "code",
   "execution_count": 20,
   "metadata": {
    "collapsed": false
   },
   "outputs": [],
   "source": [
    "# compute total revenue by industry by user age group\n",
    "revenue_by_cat_by_age = funnel_loans[funnel_loans.action == 'Checkout Completed'].groupby(['age_grp','category'], axis=0).revenue.sum().unstack()\n",
    "\n",
    "# compute total number of loans by industry by user age group\n",
    "app_by_cat_by_age = funnel_loans[funnel_loans.action == 'Loan Terms Run'].groupby(['age_grp','category'], axis=0).size().unstack()\n",
    "\n",
    "# compute average revenue per loan by industry by user age group -- similar to ROI\n",
    "avg_revenue_by_cat_by_age = revenue_by_cat_by_age / app_by_cat_by_age"
   ]
  },
  {
   "cell_type": "code",
   "execution_count": 21,
   "metadata": {
    "collapsed": false
   },
   "outputs": [
    {
     "data": {
      "text/plain": [
       "(array([ 0.5,  1.5,  2.5,  3.5]), <a list of 4 Text xticklabel objects>)"
      ]
     },
     "execution_count": 21,
     "metadata": {},
     "output_type": "execute_result"
    },
    {
     "data": {
      "image/png": "[encoded data removed]",
      "text/plain": [
       "<matplotlib.figure.Figure at 0x114127890>"
      ]
     },
     "metadata": {},
     "output_type": "display_data"
    }
   ],
   "source": [
    "# visualize the above data\n",
    "sns.set()\n",
    "\n",
    "f, ax = plt.subplots(figsize=(4,6))\n",
    "revenue_map = sns.heatmap(avg_revenue_by_cat_by_age, cmap='Oranges', annot=True, cbar=False,fmt=\".0f\", linewidths=.5, ax=ax)\n",
    "for t in revenue_map.texts: t.set_text(\"$\"+t.get_text())\n",
    "plt.title('Average Revenue per Loan', fontsize='15')\n",
    "plt.ylabel('Age Group', fontweight='bold',fontsize='12')\n",
    "plt.xlabel('Merchant Industry',fontweight='bold',fontsize='12')\n",
    "plt.yticks(fontsize='10')\n",
    "plt.xticks(fontsize='10')"
   ]
  },
  {
   "cell_type": "code",
   "execution_count": 22,
   "metadata": {
    "collapsed": false
   },
   "outputs": [
    {
     "data": {
      "text/html": [
       "<div>\n",
       "<table border=\"1\" class=\"dataframe\">\n",
       "  <thead>\n",
       "    <tr style=\"text-align: right;\">\n",
       "      <th>category</th>\n",
       "      <th>Apparel</th>\n",
       "      <th>Furniture</th>\n",
       "      <th>Jewelry</th>\n",
       "      <th>Music</th>\n",
       "    </tr>\n",
       "    <tr>\n",
       "      <th>age_grp</th>\n",
       "      <th></th>\n",
       "      <th></th>\n",
       "      <th></th>\n",
       "      <th></th>\n",
       "    </tr>\n",
       "  </thead>\n",
       "  <tbody>\n",
       "    <tr>\n",
       "      <th>(0, 25]</th>\n",
       "      <td>29.184616</td>\n",
       "      <td>91.753076</td>\n",
       "      <td>55.818130</td>\n",
       "      <td>46.210404</td>\n",
       "    </tr>\n",
       "    <tr>\n",
       "      <th>(25, 30]</th>\n",
       "      <td>34.238230</td>\n",
       "      <td>109.899143</td>\n",
       "      <td>154.218147</td>\n",
       "      <td>53.525840</td>\n",
       "    </tr>\n",
       "    <tr>\n",
       "      <th>(30, 35]</th>\n",
       "      <td>49.657035</td>\n",
       "      <td>135.318917</td>\n",
       "      <td>232.518388</td>\n",
       "      <td>44.489234</td>\n",
       "    </tr>\n",
       "    <tr>\n",
       "      <th>(35, 40]</th>\n",
       "      <td>48.633291</td>\n",
       "      <td>168.805083</td>\n",
       "      <td>242.083285</td>\n",
       "      <td>44.969331</td>\n",
       "    </tr>\n",
       "    <tr>\n",
       "      <th>(40, 45]</th>\n",
       "      <td>41.867495</td>\n",
       "      <td>186.550236</td>\n",
       "      <td>264.325154</td>\n",
       "      <td>46.696354</td>\n",
       "    </tr>\n",
       "    <tr>\n",
       "      <th>(45, 50]</th>\n",
       "      <td>41.684526</td>\n",
       "      <td>208.290691</td>\n",
       "      <td>193.723211</td>\n",
       "      <td>50.488673</td>\n",
       "    </tr>\n",
       "    <tr>\n",
       "      <th>(50, 55]</th>\n",
       "      <td>40.505727</td>\n",
       "      <td>217.079132</td>\n",
       "      <td>487.633767</td>\n",
       "      <td>59.721568</td>\n",
       "    </tr>\n",
       "    <tr>\n",
       "      <th>(55, 60]</th>\n",
       "      <td>49.929662</td>\n",
       "      <td>188.523247</td>\n",
       "      <td>314.214052</td>\n",
       "      <td>57.577747</td>\n",
       "    </tr>\n",
       "    <tr>\n",
       "      <th>(60, 65]</th>\n",
       "      <td>43.516662</td>\n",
       "      <td>177.705917</td>\n",
       "      <td>359.623275</td>\n",
       "      <td>63.532626</td>\n",
       "    </tr>\n",
       "    <tr>\n",
       "      <th>(65, inf]</th>\n",
       "      <td>57.958620</td>\n",
       "      <td>174.381776</td>\n",
       "      <td>448.594927</td>\n",
       "      <td>55.879813</td>\n",
       "    </tr>\n",
       "  </tbody>\n",
       "</table>\n",
       "</div>"
      ],
      "text/plain": [
       "category     Apparel   Furniture     Jewelry      Music\n",
       "age_grp                                                \n",
       "(0, 25]    29.184616   91.753076   55.818130  46.210404\n",
       "(25, 30]   34.238230  109.899143  154.218147  53.525840\n",
       "(30, 35]   49.657035  135.318917  232.518388  44.489234\n",
       "(35, 40]   48.633291  168.805083  242.083285  44.969331\n",
       "(40, 45]   41.867495  186.550236  264.325154  46.696354\n",
       "(45, 50]   41.684526  208.290691  193.723211  50.488673\n",
       "(50, 55]   40.505727  217.079132  487.633767  59.721568\n",
       "(55, 60]   49.929662  188.523247  314.214052  57.577747\n",
       "(60, 65]   43.516662  177.705917  359.623275  63.532626\n",
       "(65, inf]  57.958620  174.381776  448.594927  55.879813"
      ]
     },
     "execution_count": 22,
     "metadata": {},
     "output_type": "execute_result"
    }
   ],
   "source": [
    "avg_revenue_by_cat_by_age"
   ]
  },
  {
   "cell_type": "code",
   "execution_count": 23,
   "metadata": {
    "collapsed": false
   },
   "outputs": [
    {
     "data": {
      "text/plain": [
       "(array([ 0.5,  1.5,  2.5,  3.5,  4.5,  5.5,  6.5,  7.5,  8.5,  9.5]),\n",
       " <a list of 10 Text yticklabel objects>)"
      ]
     },
     "execution_count": 23,
     "metadata": {},
     "output_type": "execute_result"
    },
    {
     "data": {
      "image/png": "[encoded data removed]",
      "text/plain": [
       "<matplotlib.figure.Figure at 0x114bb37d0>"
      ]
     },
     "metadata": {},
     "output_type": "display_data"
    }
   ],
   "source": [
    "f, ax = plt.subplots(figsize=(4,6))\n",
    "sns.heatmap(app_by_cat_by_age, cmap='Greens', annot=True, cbar=False, fmt=\".0f\", linewidths=.5, ax=ax)\n",
    "plt.title('Total Number of Loans', fontsize='15')\n",
    "plt.ylabel('Age Group', fontweight='bold',fontsize='12')\n",
    "plt.xlabel('Merchant Industry',fontweight='bold',fontsize='12')\n",
    "plt.xticks(fontsize='10')\n",
    "plt.yticks(fontsize='10')"
   ]
  },
  {
   "cell_type": "code",
   "execution_count": 24,
   "metadata": {
    "collapsed": false
   },
   "outputs": [
    {
     "data": {
      "text/plain": [
       "(array([ 0.5,  1.5,  2.5,  3.5,  4.5,  5.5,  6.5,  7.5,  8.5,  9.5]),\n",
       " <a list of 10 Text yticklabel objects>)"
      ]
     },
     "execution_count": 24,
     "metadata": {},
     "output_type": "execute_result"
    },
    {
     "data": {
      "image/png": "[encoded data removed]",
      "text/plain": [
       "<matplotlib.figure.Figure at 0x114cc8c10>"
      ]
     },
     "metadata": {},
     "output_type": "display_data"
    }
   ],
   "source": [
    "revenue_by_cat_by_age_k = revenue_by_cat_by_age / 1000\n",
    "f, ax = plt.subplots(figsize=(4,6))\n",
    "tot_revenue_map = sns.heatmap(revenue_by_cat_by_age_k, cmap='Blues', annot=True, cbar=False, fmt=\".0f\", linewidths=.5, ax=ax)\n",
    "for t in tot_revenue_map.texts: t.set_text(\"$\"+t.get_text()+\"K\")\n",
    "plt.title('Total Revenue', fontsize='15')\n",
    "plt.ylabel('Age Group', fontweight='bold',fontsize='12')\n",
    "plt.xlabel('Merchant Industry',fontweight='bold',fontsize='12')\n",
    "plt.xticks(fontsize='10')\n",
    "plt.yticks(fontsize='10')"
   ]
  },
  {
   "cell_type": "code",
   "execution_count": 25,
   "metadata": {
    "collapsed": true
   },
   "outputs": [],
   "source": [
    "# recommendation: \n",
    "# Furniture: 30-50\n",
    "# Jewelry: total rev too small due to small number of loan applications due to small market.\n",
    "# Apparel: total rev large, but cost also large due to too many loan applications."
   ]
  },
  {
   "cell_type": "code",
   "execution_count": 26,
   "metadata": {
    "collapsed": false
   },
   "outputs": [],
   "source": [
    "# data prep, continued\n",
    "\n",
    "# Number of return users by industry by age group\n",
    "# Use all loans data, including those records not found in funnel data\n",
    "loan_merchant = loans.merge(merchants, how = 'left', on = 'merchant_id')\n",
    "loan_merchant['age'] = 2018 - loan_merchant.user_dob_year + 1\n",
    "loan_merchant['age_grp'] = pd.cut(loan_merchant.age, bins = [0,25,30,35,40,45,50,55,60,65,np.inf])"
   ]
  },
  {
   "cell_type": "code",
   "execution_count": 27,
   "metadata": {
    "collapsed": false
   },
   "outputs": [
    {
     "name": "stdout",
     "output_type": "stream",
     "text": [
      "return user count breakdown\n"
     ]
    },
    {
     "data": {
      "text/plain": [
       "category\n",
       "Apparel      9083\n",
       "Furniture     737\n",
       "Jewelry        78\n",
       "Music        1119\n",
       "Name: user_id, dtype: int64"
      ]
     },
     "execution_count": 27,
     "metadata": {},
     "output_type": "execute_result"
    }
   ],
   "source": [
    "# Number of return users by category\n",
    "return_users = pd.DataFrame({'user_id' : loan_merchant.query('users_first_capture.notnull()').user_id.unique()})\n",
    "return_users_by_cat = loan_merchant.merge(return_users, how = 'right', on = 'user_id').groupby(['category']).user_id.unique().apply(len)\n",
    "print 'return user count breakdown'\n",
    "return_users_by_cat\n"
   ]
  },
  {
   "cell_type": "code",
   "execution_count": 28,
   "metadata": {
    "collapsed": false
   },
   "outputs": [
    {
     "name": "stdout",
     "output_type": "stream",
     "text": [
      "all user count breakdown\n"
     ]
    },
    {
     "data": {
      "text/plain": [
       "category\n",
       "Apparel      16121\n",
       "Furniture    11126\n",
       "Jewelry        536\n",
       "Music         3831\n",
       "Name: user_id, dtype: int64"
      ]
     },
     "execution_count": 28,
     "metadata": {},
     "output_type": "execute_result"
    }
   ],
   "source": [
    "# Number of all users by industry \n",
    "all_users_by_cat = loan_merchant.groupby(by=['category']).user_id.unique().apply(len)\n",
    "#all_users_by_cat = loan_merchant.groupby(by=['category','age_grp']).user_id.unique().apply(len)\n",
    "print 'all user count breakdown'\n",
    "all_users_by_cat"
   ]
  },
  {
   "cell_type": "code",
   "execution_count": 29,
   "metadata": {
    "collapsed": false
   },
   "outputs": [
    {
     "name": "stdout",
     "output_type": "stream",
     "text": [
      "% of return users\n"
     ]
    },
    {
     "data": {
      "text/plain": [
       "category\n",
       "Apparel      56.3\n",
       "Furniture     6.6\n",
       "Jewelry      14.6\n",
       "Music        29.2\n",
       "Name: user_id, dtype: float64"
      ]
     },
     "execution_count": 29,
     "metadata": {},
     "output_type": "execute_result"
    }
   ],
   "source": [
    "# Percentage of return users by industry\n",
    "pct_ret_users_by_cat = return_users_by_cat / all_users_by_cat\n",
    "print '% of return users'\n",
    "(pct_ret_users_by_cat * 100).apply(round, args=[1])"
   ]
  },
  {
   "cell_type": "code",
   "execution_count": 30,
   "metadata": {
    "collapsed": false
   },
   "outputs": [
    {
     "data": {
      "text/html": [
       "<div>\n",
       "<table border=\"1\" class=\"dataframe\">\n",
       "  <thead>\n",
       "    <tr style=\"text-align: right;\">\n",
       "      <th></th>\n",
       "      <th>num_loaded</th>\n",
       "      <th>num_applied</th>\n",
       "      <th>num_approved</th>\n",
       "      <th>num_confirmed</th>\n",
       "      <th>application_rate</th>\n",
       "      <th>approval_rate</th>\n",
       "      <th>confirmation_rate</th>\n",
       "    </tr>\n",
       "    <tr>\n",
       "      <th>category</th>\n",
       "      <th></th>\n",
       "      <th></th>\n",
       "      <th></th>\n",
       "      <th></th>\n",
       "      <th></th>\n",
       "      <th></th>\n",
       "      <th></th>\n",
       "    </tr>\n",
       "  </thead>\n",
       "  <tbody>\n",
       "    <tr>\n",
       "      <th>Apparel</th>\n",
       "      <td>97716</td>\n",
       "      <td>71718</td>\n",
       "      <td>37752</td>\n",
       "      <td>24621</td>\n",
       "      <td>0.733943</td>\n",
       "      <td>0.526395</td>\n",
       "      <td>0.652177</td>\n",
       "    </tr>\n",
       "    <tr>\n",
       "      <th>Furniture</th>\n",
       "      <td>37416</td>\n",
       "      <td>25872</td>\n",
       "      <td>15201</td>\n",
       "      <td>10704</td>\n",
       "      <td>0.691469</td>\n",
       "      <td>0.587546</td>\n",
       "      <td>0.704164</td>\n",
       "    </tr>\n",
       "    <tr>\n",
       "      <th>Jewelry</th>\n",
       "      <td>7625</td>\n",
       "      <td>4629</td>\n",
       "      <td>1725</td>\n",
       "      <td>539</td>\n",
       "      <td>0.607082</td>\n",
       "      <td>0.372651</td>\n",
       "      <td>0.312464</td>\n",
       "    </tr>\n",
       "    <tr>\n",
       "      <th>Music</th>\n",
       "      <td>55761</td>\n",
       "      <td>28994</td>\n",
       "      <td>8591</td>\n",
       "      <td>4772</td>\n",
       "      <td>0.519969</td>\n",
       "      <td>0.296303</td>\n",
       "      <td>0.555465</td>\n",
       "    </tr>\n",
       "  </tbody>\n",
       "</table>\n",
       "</div>"
      ],
      "text/plain": [
       "           num_loaded  num_applied  num_approved  num_confirmed  \\\n",
       "category                                                          \n",
       "Apparel         97716        71718         37752          24621   \n",
       "Furniture       37416        25872         15201          10704   \n",
       "Jewelry          7625         4629          1725            539   \n",
       "Music           55761        28994          8591           4772   \n",
       "\n",
       "           application_rate  approval_rate  confirmation_rate  \n",
       "category                                                       \n",
       "Apparel            0.733943       0.526395           0.652177  \n",
       "Furniture          0.691469       0.587546           0.704164  \n",
       "Jewelry            0.607082       0.372651           0.312464  \n",
       "Music              0.519969       0.296303           0.555465  "
      ]
     },
     "execution_count": 30,
     "metadata": {},
     "output_type": "execute_result"
    }
   ],
   "source": [
    "# funnel performance breakdown by industry\n",
    "conversion_by_cat = funnel_loans.groupby(['category','action'], axis=0).size().unstack()\n",
    "conversion_by_cat.columns = ['num_confirmed', 'num_loaded', 'num_approved', 'num_applied']\n",
    "conversion_by_cat = conversion_by_cat[['num_loaded','num_applied','num_approved','num_confirmed']]\n",
    "conversion_by_cat['application_rate'] = conversion_by_cat['num_applied'] / conversion_by_cat['num_loaded']\n",
    "conversion_by_cat['approval_rate'] = conversion_by_cat['num_approved'] / conversion_by_cat['num_applied'] \n",
    "conversion_by_cat['confirmation_rate'] = conversion_by_cat['num_confirmed'] / conversion_by_cat['num_approved'] \n",
    "conversion_by_cat\n",
    "\n",
    "# Apparel and Furniture have good funnel conversion rates and should be the focus\n",
    "# the problem with Jewelry industry is that both approval and confirmation rates are low\n",
    "# the problem with music industry is mainly in the approval rate"
   ]
  },
  {
   "cell_type": "markdown",
   "metadata": {},
   "source": [
    "Current overall performance metrics for Exec Summary slide:"
   ]
  },
  {
   "cell_type": "code",
   "execution_count": 31,
   "metadata": {
    "collapsed": false
   },
   "outputs": [
    {
     "name": "stdout",
     "output_type": "stream",
     "text": [
      "Overall application rate:  0.661\n",
      "Overall approval rate:  0.482\n",
      "Overall confirmation rate:  0.642\n"
     ]
    }
   ],
   "source": [
    "# overall funnel performance\n",
    "conversion_all = funnel_loans.groupby(['action'], axis=0).size()\n",
    "print 'Overall application rate: ', round(float(conversion_all[3])/conversion_all[1], 3)\n",
    "print 'Overall approval rate: ', round(float(conversion_all[2])/conversion_all[3], 3)\n",
    "print 'Overall confirmation rate: ', round(float(conversion_all[0])/conversion_all[2], 3)\n"
   ]
  },
  {
   "cell_type": "code",
   "execution_count": 32,
   "metadata": {
    "collapsed": false
   },
   "outputs": [
    {
     "name": "stdout",
     "output_type": "stream",
     "text": [
      "Total Revenue for Q1 2016:  3286897.02317\n",
      "Average Revenue per Loan for Q1 2016:  80.8167250171\n"
     ]
    }
   ],
   "source": [
    "# overall revenue\n",
    "print 'Total Revenue for Q1 2016: ', funnel_loans[funnel_loans.action == 'Checkout Completed'].revenue.sum()\n",
    "print 'Average Revenue per Loan for Q1 2016: ', funnel_loans[funnel_loans.action == 'Checkout Completed'].revenue.mean()\n"
   ]
  },
  {
   "cell_type": "code",
   "execution_count": 33,
   "metadata": {
    "collapsed": false
   },
   "outputs": [
    {
     "name": "stdout",
     "output_type": "stream",
     "text": [
      "Total number of users in Q1 2016:  31587\n",
      "Number of return users in Q1 2016:  10956\n",
      "% of return users in Q1 2016:  34.6851552854\n"
     ]
    }
   ],
   "source": [
    "# overall number of users\n",
    "print 'Total number of users in Q1 2016: ', loan_merchant.user_id.unique().shape[0]\n",
    "print 'Number of return users in Q1 2016: ', return_users.shape[0]\n",
    "print '% of return users in Q1 2016: ', float(return_users.shape[0])/loan_merchant.user_id.unique().shape[0] * 100"
   ]
  },
  {
   "cell_type": "code",
   "execution_count": 38,
   "metadata": {
    "collapsed": false
   },
   "outputs": [
    {
     "data": {
      "text/html": [
       "<div>\n",
       "<table border=\"1\" class=\"dataframe\">\n",
       "  <thead>\n",
       "    <tr style=\"text-align: right;\">\n",
       "      <th>category</th>\n",
       "      <th>Apparel</th>\n",
       "      <th>Furniture</th>\n",
       "      <th>Jewelry</th>\n",
       "      <th>Music</th>\n",
       "    </tr>\n",
       "    <tr>\n",
       "      <th>fico_grp</th>\n",
       "      <th></th>\n",
       "      <th></th>\n",
       "      <th></th>\n",
       "      <th></th>\n",
       "    </tr>\n",
       "  </thead>\n",
       "  <tbody>\n",
       "    <tr>\n",
       "      <th>(0, 600]</th>\n",
       "      <td>4508</td>\n",
       "      <td>1082</td>\n",
       "      <td>8</td>\n",
       "      <td>642</td>\n",
       "    </tr>\n",
       "    <tr>\n",
       "      <th>(600, 650]</th>\n",
       "      <td>9656</td>\n",
       "      <td>2746</td>\n",
       "      <td>125</td>\n",
       "      <td>1765</td>\n",
       "    </tr>\n",
       "    <tr>\n",
       "      <th>(650, 700]</th>\n",
       "      <td>6481</td>\n",
       "      <td>2674</td>\n",
       "      <td>194</td>\n",
       "      <td>1450</td>\n",
       "    </tr>\n",
       "    <tr>\n",
       "      <th>(700, 750]</th>\n",
       "      <td>2462</td>\n",
       "      <td>2047</td>\n",
       "      <td>123</td>\n",
       "      <td>503</td>\n",
       "    </tr>\n",
       "    <tr>\n",
       "      <th>(750, 800]</th>\n",
       "      <td>930</td>\n",
       "      <td>1388</td>\n",
       "      <td>67</td>\n",
       "      <td>209</td>\n",
       "    </tr>\n",
       "    <tr>\n",
       "      <th>(800, inf]</th>\n",
       "      <td>305</td>\n",
       "      <td>624</td>\n",
       "      <td>21</td>\n",
       "      <td>84</td>\n",
       "    </tr>\n",
       "  </tbody>\n",
       "</table>\n",
       "</div>"
      ],
      "text/plain": [
       "category    Apparel  Furniture  Jewelry  Music\n",
       "fico_grp                                      \n",
       "(0, 600]       4508       1082        8    642\n",
       "(600, 650]     9656       2746      125   1765\n",
       "(650, 700]     6481       2674      194   1450\n",
       "(700, 750]     2462       2047      123    503\n",
       "(750, 800]      930       1388       67    209\n",
       "(800, inf]      305        624       21     84"
      ]
     },
     "execution_count": 38,
     "metadata": {},
     "output_type": "execute_result"
    }
   ],
   "source": [
    "# loan number by fico band\n",
    "funnel_loans[funnel_loans.action == 'Checkout Completed'].groupby(['fico_grp','category']).revenue.size().unstack()\n"
   ]
  },
  {
   "cell_type": "code",
   "execution_count": null,
   "metadata": {
    "collapsed": true
   },
   "outputs": [],
   "source": [
    "# average revenue by fico band\n",
    "funnel_loans[funnel_loans.action == 'Checkout Completed'].groupby(['fico_grp','category']).revenue.mean().unstack()"
   ]
  },
  {
   "cell_type": "code",
   "execution_count": 36,
   "metadata": {
    "collapsed": false
   },
   "outputs": [
    {
     "data": {
      "text/plain": [
       "Index([u'action', u'action_date', u'checkout_id', u'imputed', u'merchant_id_x',\n",
       "       u'user_id_x', u'merchant_name', u'category', u'merchant_id_y',\n",
       "       u'user_id_y', u'checkout_date', u'loan_amount', u'down_payment_amount',\n",
       "       u'users_first_capture', u'user_dob_year', u'loan_length_months', u'mdr',\n",
       "       u'apr', u'fico_score', u'loan_return_percentage', u'age', u'age_grp',\n",
       "       u'revenue'],\n",
       "      dtype='object')"
      ]
     },
     "execution_count": 36,
     "metadata": {},
     "output_type": "execute_result"
    }
   ],
   "source": [
    "funnel_loans.columns\n"
   ]
  },
  {
   "cell_type": "code",
   "execution_count": null,
   "metadata": {
    "collapsed": true
   },
   "outputs": [],
   "source": []
  }
 ],
 "metadata": {
  "kernelspec": {
   "display_name": "Python 2",
   "language": "python",
   "name": "python2"
  },
  "language_info": {
   "codemirror_mode": {
    "name": "ipython",
    "version": 2
   },
   "file_extension": ".py",
   "mimetype": "text/x-python",
   "name": "python",
   "nbconvert_exporter": "python",
   "pygments_lexer": "ipython2",
   "version": "2.7.10"
  }
 },
 "nbformat": 4,
 "nbformat_minor": 2
}
